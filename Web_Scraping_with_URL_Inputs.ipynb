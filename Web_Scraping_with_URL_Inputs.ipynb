{
  "nbformat": 4,
  "nbformat_minor": 0,
  "metadata": {
    "colab": {
      "provenance": [],
      "include_colab_link": true
    },
    "kernelspec": {
      "name": "python3",
      "display_name": "Python 3"
    },
    "language_info": {
      "name": "python"
    }
  },
  "cells": [
    {
      "cell_type": "markdown",
      "metadata": {
        "id": "view-in-github",
        "colab_type": "text"
      },
      "source": [
        "<a href=\"https://colab.research.google.com/github/TekyaygilFethi/WebTechTest/blob/main/Web_Scraping_with_URL_Inputs.ipynb\" target=\"_parent\"><img src=\"https://colab.research.google.com/assets/colab-badge.svg\" alt=\"Open In Colab\"/></a>"
      ]
    },
    {
      "cell_type": "code",
      "execution_count": null,
      "metadata": {
        "colab": {
          "base_uri": "https://localhost:8080/"
        },
        "id": "Y9MIGE0j5b-T",
        "outputId": "ed2cba61-993c-4fc5-b9c3-09eb4594bd88"
      },
      "outputs": [
        {
          "name": "stdout",
          "output_type": "stream",
          "text": [
            "Url-i daxil edin : https://navigator.az/az/firm/32000/a2z-technologies\n",
            "Url-i daxil edin : https://navigator.az/az/firm/29974/active-it-solutions\n"
          ]
        },
        {
          "output_type": "execute_result",
          "data": {
            "text/plain": [
              "{'A2Z TECHNOLOGIES': ('Bakı, Nərimanov r-nu, Ziya Bünyadov pr. 1965',\n",
              "  '(+99412) 525-99-55'),\n",
              " 'ACTIVE IT SOLUTIONS': ('Bakı, Nərimanov r-nu, Ziya Bünyadov 69 C',\n",
              "  '(+99412) 404-75-93  (+99450) 480-33-33')}"
            ]
          },
          "metadata": {},
          "execution_count": 8
        }
      ],
      "source": [
        "import requests as req\n",
        "from bs4 import BeautifulSoup as bs\n",
        "i=0\n",
        "baza={}\n",
        "while i<2:\n",
        "  url=str(input('Url-i daxil edin : '))\n",
        "  p=req.get(url)\n",
        "  soup=bs(p.content,'html.parser')\n",
        "  ad=soup.find('h1').text\n",
        "  adress=soup.find('p',{'itemprop':'address'}).text.strip()\n",
        "  nomre=soup.find('p',{'itemprop':'telephone'}).text.strip()\n",
        "  baza[ad]=adress,nomre\n",
        "  i=i+1\n",
        "baza"
      ]
    },
    {
      "cell_type": "code",
      "source": [
        "i=0\n",
        "base={}\n",
        "while i<2:\n",
        "  u=str(input('Enter URL: '))\n",
        "  page = req.get(u)\n",
        "  print(page)\n",
        "  URL=bs(page.content, 'html.parser')\n",
        "  name=URL.find('h1').text\n",
        "  address=URL.find('p', {'itemprop': \"address\"}).text.strip()\n",
        "  telephone=URL.find('p',{'itemprop': \"telephone\"}).text.strip()\n",
        "  base[name]=address,telephone\n",
        "  i=i+1\n",
        "base"
      ],
      "metadata": {
        "colab": {
          "base_uri": "https://localhost:8080/"
        },
        "id": "x29CEez_-NRX",
        "outputId": "bbc61025-516d-439e-90ae-50f88f998122"
      },
      "execution_count": null,
      "outputs": [
        {
          "output_type": "stream",
          "name": "stdout",
          "text": [
            "Enter URL: https://navigator.az/az/firm/32000/a2z-technologies\n",
            "<Response [200]>\n",
            "Enter URL: https://navigator.az/az/firm/29974/active-it-solutions\n",
            "<Response [200]>\n"
          ]
        },
        {
          "output_type": "execute_result",
          "data": {
            "text/plain": [
              "{'A2Z TECHNOLOGIES': ('Bakı, Nərimanov r-nu, Ziya Bünyadov pr. 1965',\n",
              "  '(+99412) 525-99-55'),\n",
              " 'ACTIVE IT SOLUTIONS': ('Bakı, Nərimanov r-nu, Ziya Bünyadov 69 C',\n",
              "  '(+99412) 404-75-93  (+99450) 480-33-33')}"
            ]
          },
          "metadata": {},
          "execution_count": 11
        }
      ]
    },
    {
      "cell_type": "code",
      "source": [
        "print(\"Yeni bir alan ekledim!\")"
      ],
      "metadata": {
        "id": "9hGFuD1WB2Ts"
      },
      "execution_count": null,
      "outputs": []
    }
  ]
}